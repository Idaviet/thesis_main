{
 "cells": [
  {
   "cell_type": "code",
   "execution_count": 92,
   "id": "2e3a589b",
   "metadata": {},
   "outputs": [],
   "source": [
    "import os\n",
    "import csv\n",
    "import argparse"
   ]
  },
  {
   "cell_type": "markdown",
   "id": "ddf03378",
   "metadata": {},
   "source": [
    "# Function and Object Class Definition"
   ]
  },
  {
   "cell_type": "markdown",
   "id": "b87efd7f",
   "metadata": {},
   "source": [
    "## Define objects of class PDB_Atom and PDB_CDRH3"
   ]
  },
  {
   "cell_type": "code",
   "execution_count": 9,
   "id": "6ebc558f",
   "metadata": {},
   "outputs": [],
   "source": [
    "class PDB_Atom:\n",
    "    '''\n",
    "    Creates new class of object based on the atomic entry of a .pdb file.\n",
    "    \n",
    "    ATTRIBUTES:\n",
    "        - atom # in file (.atom_id)\n",
    "        - residue position in file (.res_position)\n",
    "        - position within the CDRH3 (.cdrh3_pos)\n",
    "        - associated residue type (.res_type)\n",
    "        - full CDRH3 sequence associated with the atom (.cdrh3)\n",
    "        - x/y/z coordinates (in separate attributes, .x/.y/.z)\n",
    "        - chain it is located in (.chain)\n",
    "        - element of the atom (.element)\n",
    "        - calculated occupancy (.occupancy)\n",
    "        - temperature factor (.temp_factor)\n",
    "        - Summary list containing position in CDRH3, atom #, amino acid type, element and x/y/z coordinates (.element_coord)    \n",
    "    '''\n",
    "    \n",
    "    def __init__(self, atom_number, amino_acid_position, pos_in_cdrh3, amino_acid_type, x, y, z, chain, element, occupancy, temp_factor, CDRH3):\n",
    "        self.atom_id = atom_number #gives atom number as it appears in the pdb file\n",
    "        self.res_position = amino_acid_position #gives the residue position ID as it appears in the PDB file\n",
    "        self.cdrh3_pos = pos_in_cdrh3 #Gives numerical position of atom/residue in CDRH3, from 1-10\n",
    "        self.res_type = amino_acid_type #gives amino acid associated with this atom\n",
    "        self.cdrh3 = CDRH3 #Gives full CDRH3 sequence associated with this atom\n",
    "        self.x = x #x-coordinate of the atom\n",
    "        self.y = y #y-coordinate of the atom\n",
    "        self.z = z #z-coordinate of the atom\n",
    "        self.chain = chain #Gives chain the atom is a part of\n",
    "        self.element = element #gives element of atom\n",
    "        self.occupancy = occupancy #occupancy as it appears in pdb file\n",
    "        self.temp_factor = temp_factor #temperature factor as it appears in pdb file\n",
    "        self.element_coord = [pos_in_cdrh3, atom_number, amino_acid_type, element, x, y, z] #all the important structural information (at least for now)\n",
    "    \n",
    "    def __str__(self):\n",
    "        return (\n",
    "            f\"CDRH3: {self.cdrh3} Position #{self.cdrh3_pos}- Atom #{self.atom_id} - {self.res_type}{self.res_position} \"\n",
    "            f\"({self.x}, {self.y}, {self.z}) Chain: {self.chain} Element: {self.element} \"\n",
    "            f\"Occupancy: {self.occupancy} Temp Factor: {self.temp_factor}\"\n",
    "        )\n",
    "    \n",
    "class PDB_CDRH3:\n",
    "    '''\n",
    "    Compiles all atoms (of class PDB_atoms) of a given CDRH3 from pdb file. The data of the individual atoms can \n",
    "    be accessed using the attributes of PDB_Atom objects (see above)\n",
    "    \n",
    "    ATTRIBUTES:\n",
    "     - .full_atom_list: returns full PDB_atom list used as input when object is created\n",
    "     - .atoms_number: returns total number of atoms in the object\n",
    "     - .atoms_range: returns the start and end of the CDRH3's atoms within the original pdb file\n",
    "     - .binding: returns the binding as either 0 (non binder), 1 (binder) or 'Unknown' (if the labeling data has \n",
    "                 not been added yet; see binding_and_qc function fo more details)\n",
    "     - .sequence: returns sequence of CDRH3 as 1-letter AA code\n",
    "     - .atoms_coord: returns list containing all .element_coord summaries of the PDB_atom objects of CDRH3\n",
    "    \n",
    "    '''\n",
    "    \n",
    "    def __init__(self, pdb_atoms_list, binding = None):\n",
    "        self.full_atom_list = pdb_atoms_list #returns full list of PDB_Atom objects\n",
    "        self.atoms_number = len(self.full_atom_list) #returns numbmer of atoms inf given CDRH3 \n",
    "        self.atoms_range = (pdb_atoms_list[0].atom_id, pdb_atoms_list[-1].atom_id) #returns positions of CDRH3 atoms in pdb file\n",
    "        self.binding = 'Unknown' if binding is None else binding\n",
    "        self.sequence = pdb_atoms_list[0].cdrh3\n",
    "        \n",
    "        #Resulting List: [Atom #, Position in CDRH3, Associated Residue, Element, X, Y, Z coordinates]\n",
    "        self.atoms_coord = [atom.element_coord for atom in pdb_atoms_list] \n",
    "        \n",
    "        \n",
    "    def __str__(self):\n",
    "        return (\n",
    "            f\"Sequence: {self.sequence} -- {self.atoms_number} atoms at positions {self.atoms_range} -- Binding: {self.binding} \"\n",
    "        )\n",
    "        \n",
    "# test = PDB_CDRH3(pdb_atoms)\n",
    "# test.atoms_range"
   ]
  },
  {
   "cell_type": "markdown",
   "id": "09aae174",
   "metadata": {},
   "source": [
    "## Functions to extract CDRH3 info from PDB file into PDB_Atom objects and return as list"
   ]
  },
  {
   "cell_type": "markdown",
   "id": "2af4219d",
   "metadata": {},
   "source": [
    "### quick function to convert strings into floats when possible"
   ]
  },
  {
   "cell_type": "code",
   "execution_count": 10,
   "id": "5dfde9e1",
   "metadata": {},
   "outputs": [],
   "source": [
    "def convert_to_float(value):\n",
    "    '''\n",
    "    converts strings into floats when possible, leaving as string if not\n",
    "    '''\n",
    "    try:\n",
    "        return float(value)\n",
    "    except ValueError:\n",
    "        return value\n",
    "    "
   ]
  },
  {
   "cell_type": "markdown",
   "id": "37b6b98d",
   "metadata": {},
   "source": [
    "### quick function to convert residue into alphabetic code"
   ]
  },
  {
   "cell_type": "code",
   "execution_count": 11,
   "id": "eb46d252",
   "metadata": {},
   "outputs": [],
   "source": [
    "\n",
    "def three_letter_to_one_letter(three_letter_code):\n",
    "    '''\n",
    "    Quick converter to switch from 3 to 1 letter amino acid code. Only takes one amino acid at a time\n",
    "    '''\n",
    "    aa_mapping = {'CYS': 'C', 'ASP': 'D', 'SER': 'S', 'GLN': 'Q', 'LYS': 'K',\n",
    "     'ILE': 'I', 'PRO': 'P', 'THR': 'T', 'PHE': 'F', 'ASN': 'N', \n",
    "     'GLY': 'G', 'HIS': 'H', 'LEU': 'L', 'ARG': 'R', 'TRP': 'W', \n",
    "     'ALA': 'A', 'VAL':'V', 'GLU': 'E', 'TYR': 'Y', 'MET': 'M'}\n",
    " \n",
    "\n",
    "\n",
    "    return aa_mapping.get(three_letter_code, three_letter_code)\n"
   ]
  },
  {
   "cell_type": "markdown",
   "id": "d00321f4",
   "metadata": {},
   "source": [
    "## Function to extract all atom entries + CDRH3 sequence/positions from PDB file"
   ]
  },
  {
   "cell_type": "code",
   "execution_count": 12,
   "id": "62cb6472",
   "metadata": {},
   "outputs": [],
   "source": [
    "def parse_pdb(file_path):\n",
    "    \"\"\"\n",
    "    Parses PDB file to extract CDRH3 sequences and positions as well as structural information for ALL atoms contained\n",
    "    therein. \n",
    "    \n",
    "    CDRH3 sequence is returned as a single string using 1 letter AA code\n",
    "    CDRH3 positions are returned as a list of strings. Assumes that the 98th unique residue position is the start\n",
    "            of the sequence and the 108th unique position is the end\n",
    "    Atoms list contains all data points for a given atom, saved as a list of strings\n",
    "    \"\"\"\n",
    "    atoms = []\n",
    "\n",
    "    positions = []\n",
    "\n",
    "    aa_seq = []\n",
    "\n",
    "    with open(file_path, 'r') as file:\n",
    "        for line in file:\n",
    "            if line.startswith (\"ATOM\") or line.startswith(\"HETATM\"):\n",
    "                line = line.split(' ')\n",
    "                line = [item for item in line if item != '']\n",
    "                line = [item for item in line if item !='\\n']\n",
    "\n",
    "                atoms.append(line)\n",
    "\n",
    "\n",
    "                aa_pos = line[5]\n",
    "                aa = line[3]\n",
    "\n",
    "                if aa_pos not in positions:\n",
    "                        aa = three_letter_to_one_letter(aa)\n",
    "                        aa_seq.append(aa)\n",
    "                        positions.append(aa_pos)\n",
    "\n",
    "        cdrh3, cdrh3_pos = ''.join(aa_seq[98:108]), positions[98:108]\n",
    "        \n",
    "        return cdrh3, cdrh3_pos, atoms\n",
    "\n",
    "### TESTING\n",
    "\n",
    "# file_path = r\"C:\\Users\\isaac\\Desktop\\MTLS Masters Program\\Thesis\\Brijj-Mason_data\\test\\mHER_H3_AgNeg_unique_fv_12_igfold.pdb\"\n",
    "\n",
    "# parsed_pdb_file = parse_pdb(file_path) \n",
    "# cdrh3_sequence = parsed_pdb_file[0]\n",
    "# #cdrh3_position_ids = parsed_pdb_file[1]\n",
    "# all_atoms = parsed_pdb_file[2]\n",
    "# print(cdrh3_sequence)"
   ]
  },
  {
   "cell_type": "markdown",
   "id": "eadfc924",
   "metadata": {},
   "source": [
    "## Function to extract atom information of CDRH3 and store in PDB_Atom class object"
   ]
  },
  {
   "cell_type": "code",
   "execution_count": 13,
   "id": "69e1a2bd",
   "metadata": {},
   "outputs": [],
   "source": [
    "def find_cdrh3_atoms(parsed_pdb_file):\n",
    "    '''\n",
    "    Extracts the information for each atom in the PDB file using the outputs of the parse_pbd function\n",
    "    \n",
    "    Input: output from parse_pdb function \n",
    "    ['<CDRH3 sequence>', [<positions of CCDRH3 in PDB file>], [<list of all atom entries as a list>] )\n",
    "    \n",
    "    Output: list containing all atoms in CDRH3, stored as objects of PDB_Atom type\n",
    "    '''\n",
    "    \n",
    "    cdrh3 = parsed_pdb_file[0]\n",
    "    cdrh3_pos = parsed_pdb_file[1]\n",
    "    atoms = parsed_pdb_file[2]\n",
    "    \n",
    "    pdbatoms = []\n",
    "    hold = []\n",
    "\n",
    "    for atom in atoms:\n",
    "        chain = atom[4]\n",
    "        aa_pos = atom[5]\n",
    "        aa = atom[3]\n",
    "\n",
    "\n",
    "        if aa_pos in cdrh3_pos and chain == 'H':\n",
    "            atom_id = atom[1]\n",
    "            atom_type = atom[2]\n",
    "            aa = three_letter_to_one_letter(atom[3])\n",
    "            x = atom[6]\n",
    "            y = atom[7]\n",
    "            z = atom[8]\n",
    "            occ = atom[9]\n",
    "            temp = atom[10]\n",
    "            element = atom[11]\n",
    "\n",
    "            if aa_pos not in hold: #finds actual position in CDRH3 from 1-10\n",
    "                hold.append(aa_pos)\n",
    "                pos_in_cdrh3 = len(hold)\n",
    "\n",
    "            entry = PDB_Atom(atom_id, aa_pos, pos_in_cdrh3, aa, x, y, z, chain, element, occ, temp, cdrh3)\n",
    "            pdbatoms.append(entry)\n",
    "            \n",
    "    cdrh3_object = PDB_CDRH3(pdbatoms)\n",
    "    \n",
    "    return cdrh3_object\n",
    "\n",
    "###TESTING\n",
    "# cdrh3_object = find_cdrh3_atoms(parsed_pdb_file)\n",
    "# print(cdrh3_object, '\\n\\n')\n",
    "# for atom in cdrh3_object.full_atom_list:\n",
    "#     print(atom)"
   ]
  },
  {
   "cell_type": "markdown",
   "id": "a70ab168",
   "metadata": {},
   "source": [
    "## Full parsing function"
   ]
  },
  {
   "cell_type": "code",
   "execution_count": 14,
   "id": "52486dbf",
   "metadata": {},
   "outputs": [],
   "source": [
    "def full_pdb_parsing(file_path):\n",
    "    '''\n",
    "    Combines previous functions to fully parse all atoms in a given pdb file and return the CDRH3 structural data\n",
    "    as a PDB_CDRH3 type object.\n",
    "    \n",
    "    See object class definitions above for resulting attributes\n",
    "    '''\n",
    "    parsed_pdb_file = parse_pdb(file_path)\n",
    "    cdrh3_object = find_cdrh3_atoms(parsed_pdb_file)\n",
    "    return cdrh3_object\n",
    "\n",
    "### TESTING\n",
    "# file_path = r\"C:\\Users\\isaac\\Desktop\\MTLS Masters Program\\Thesis\\Brijj-Mason_data\\test\\mHER_H3_AgNeg_unique_fv_12_igfold.pdb\"\n",
    "\n",
    "# cdrh3_object = full_pdb_parsing(file_path)\n",
    "# print(cdrh3_object.atoms_range)\n",
    "# print(cdrh3_object.full_atom_list[0].res_type)"
   ]
  },
  {
   "cell_type": "markdown",
   "id": "becd1aa7",
   "metadata": {},
   "source": [
    "## Function to extract all CDRH3 structural information from a folder"
   ]
  },
  {
   "cell_type": "code",
   "execution_count": 15,
   "id": "36f1b43a",
   "metadata": {},
   "outputs": [],
   "source": [
    "def parse_all_pdb_files(folder):\n",
    "    '''\n",
    "    Uses previous functions to parse all pdb files from a given folder and extract the CDRH3 structural data into\n",
    "    PDB_Atom and PDB_CDRH3 class objects. \n",
    "    \n",
    "    Returns the data as a PDB_CDRH3 type object, one for each file parsed \n",
    "    '''\n",
    "    \n",
    "    cdrh3_all = []\n",
    "    all_sequences = []\n",
    "\n",
    "    for filename in os.listdir(folder):\n",
    "        if filename.endswith('.pdb'):\n",
    "            file_path = os.path.join(folder, filename)\n",
    "            cdrh3_object = full_pdb_parsing(file_path)\n",
    "            cdrh3_all.append(cdrh3_object)\n",
    "            \n",
    "            if cdrh3_object.sequence not in all_sequences:\n",
    "                all_sequences.append(cdrh3_object.sequence)\n",
    "            \n",
    "    return cdrh3_all, all_sequences\n",
    "\n",
    "### TESTING\n",
    "# cdrh3_all, all_sequences = parse_all_pdb_files(folder)\n",
    "\n",
    "# print(cdrh3_all[0].atoms_range)\n",
    "# print(cdrh3_all[0].sequence)\n",
    "# print(all_sequences)\n",
    "\n",
    "# test_sequences = all_sequences[:-3] #testing set for the next section\n"
   ]
  },
  {
   "cell_type": "markdown",
   "id": "13706c34",
   "metadata": {},
   "source": [
    "## Function to extract selected CDRH3 sequences from folder of pdb files"
   ]
  },
  {
   "cell_type": "code",
   "execution_count": 16,
   "id": "f6e51f73",
   "metadata": {
    "scrolled": true
   },
   "outputs": [],
   "source": [
    "def parse_selected_cdrh3(folder, cdrh3_list = None):\n",
    "    '''\n",
    "    Uses previous functions to parse pdb files from a given folder containing the CDRH3 sequences specified in a given \n",
    "    list and extract the CDRH3 structural data into PDB_Atom and PDB_CDRH3 class objects. \n",
    "    \n",
    "    NOTE: input list of CDRH3 must be a sequence in the 1-letter code. Output will also be in this format \n",
    "    \n",
    "    Returns the data as a PDB_CDRH3 type object, one for each file parsed, and a list of all the CDRH3 sequences \n",
    "    extracted\n",
    "    '''\n",
    "    \n",
    "    cdrh3_selected = []\n",
    "    selected_sequences = []\n",
    "\n",
    "    for filename in os.listdir(folder):\n",
    "        if filename.endswith('.pdb'):\n",
    "            file_path = os.path.join(folder, filename)\n",
    "            cdrh3_object = full_pdb_parsing(file_path)\n",
    "            \n",
    "            if cdrh3_object.sequence in cdrh3_list:\n",
    "                cdrh3_selected.append(cdrh3_object)\n",
    "\n",
    "                if cdrh3_object.sequence not in selected_sequences:\n",
    "                    selected_sequences.append(cdrh3_object.sequence)\n",
    "            \n",
    "    return cdrh3_selected, selected_sequences\n",
    "\n",
    "### TESTING\n",
    "# cdrh3_selected, selected_sequences = parse_selected_cdrh3(folder, test_sequences)\n",
    "\n",
    "# print(cdrh3_selected[0].atoms_range)\n",
    "# print(cdrh3_selected[0].sequence)\n",
    "# print(cdrh3_selected[0].binding)\n",
    "# print(selected_sequences)"
   ]
  },
  {
   "cell_type": "markdown",
   "id": "29750311",
   "metadata": {},
   "source": [
    "## Function to add binding data to PDB_CDRH3 objects"
   ]
  },
  {
   "cell_type": "code",
   "execution_count": 90,
   "id": "c09787cf",
   "metadata": {},
   "outputs": [],
   "source": [
    "def binding_and_qc(pdb_cdrh3_list, binding_file):\n",
    "    '''\n",
    "    Parses the starting labeled sequence csv file to add missing binding attribute to PDB_CDRH3 objects in a given list\n",
    "    \n",
    "    Also performs a simple QC to make sure that the sequences in the PDB_CDRH3 list match the original labeled \n",
    "    sequences of the labeled file\n",
    "    '''\n",
    "    \n",
    "    missing_seqs = []\n",
    "    with open(binding_file, 'r', newline='') as file:\n",
    "        csv_reader = csv.reader(file)\n",
    "        header = next(csv_reader)\n",
    "        \n",
    "        cdrh3_index = 0\n",
    "        binding_index = 1\n",
    "        cdrh3_binding_dict = {row[cdrh3_index]: row[binding_index] for row in csv_reader}\n",
    "\n",
    "        for object in pdb_cdrh3_list:\n",
    "            seq = object.sequence\n",
    "            binding_value = cdrh3_binding_dict.get(seq, 'not found')\n",
    "            \n",
    "            if binding_value == 'not found':\n",
    "                missing_seqs.append(seq)\n",
    "            else:\n",
    "                object.binding = binding_value\n",
    "    \n",
    "    \n",
    "    # if len(missing_seqs) > 0:\n",
    "    #     print(f'{missing_seqs} could not be found in binding file\\nAll {len(pdb_cdrh3_list)} other CDRH3 objects were found and annotated.')\n",
    "    # else:\n",
    "    #     print(f'{len(pdb_cdrh3_list)} CDRH3 sequences found. Binding data successfully added\\n')\n",
    "\n",
    "\n",
    "\n",
    "\n",
    "### TESTING        \n",
    "# binding_and_qc(cdrh3_all, binding_file)\n",
    "# for i in cdrh3_all:\n",
    "#     print(i.binding)\n",
    "\n",
    "### TEST CDRH3 SEQUENCES TAKEN FROM PCA EXTRACTION PYTHON FILE ('pca.ipnyb')\n",
    "#vert6_cdrh3s= ['WSGAGFYEFA', 'WGSRGFYEFA', 'WSNSSLYEFP', 'WLGDGFYEFA', 'YLPFSFYEFI', 'WRGAGMYEFT', 'FGSSAFFEFR', 'YDVGGLYEFA', 'WRGAGFYEFA', 'WLSGSMYEFA', 'YRVGSHYEFR', 'YDKTSFYEFN', 'FQKCALFEFS', 'YGAGGMYEFL', 'YPAFGMYEFQ', 'YNKSALFEFS', 'WKRAAMFEFS', 'YPEGGMYEFR', 'WINNSMYEFL', 'YSDNGFYEFA', 'FLVRALFEFG', 'WVPSGFYEFK', 'YPLSSLYEFA', 'YGQISHYEFQ', 'WQGPSFYEFV', 'WGDAGYFEFT', 'FTLCAFFEFP', 'FNISSFYEFN', 'YENCSFYEFL', 'YRGCSFYEFT', 'YVENGLFEFS', 'FDNPSHFEFP', 'FRPFSMYEFA', 'FRMNSFYEFP', 'YTDCSLYEFK', 'FDGGGFYEFP']\n"
   ]
  },
  {
   "cell_type": "markdown",
   "id": "57c9e291",
   "metadata": {},
   "source": [
    "## Callable Argparse Function"
   ]
  },
  {
   "cell_type": "code",
   "execution_count": 121,
   "id": "9a4f36ba",
   "metadata": {},
   "outputs": [],
   "source": [
    "pdb_file = r\"C:\\Users\\isaac\\Desktop\\MTLS Masters Program\\Thesis\\Brijj-Mason_data\\test\\mHER_H3_AgNeg_unique_fv_12_igfold.pdb\"\n",
    "labeled_file = r\"C:\\Users\\isaac\\Desktop\\MTLS Masters Program\\Thesis\\Brijj-Mason_data\\mason_sequences_label.csv\"\n",
    "folder = r\"C:\\Users\\isaac\\Desktop\\MTLS Masters Program\\Thesis\\Brijj-Mason_data\\test\"\n",
    "\n",
    "\n",
    "def single_file_pdb_parsing(pdb_file):\n",
    "    cdrh3_object = full_pdb_parsing(pdb_file)\n",
    "    cdrh3_object_list = [cdrh3_object] #binding_and_qc function takes a list as input\n",
    "    print(cdrh3_object)\n",
    "    return cdrh3_object\n",
    "\n",
    "def full_folder_pdb_parsing(folder):\n",
    "    pdb_cdrh3_list, all_sequences = parse_all_pdb_files(folder)\n",
    "    for i in pdb_cdrh3_list:\n",
    "        print(i)\n",
    "    return pdb_cdrh3_list\n",
    "\n",
    "def selected_CDRH3_pdb_parsing(folder, CDRH3_sequences):\n",
    "    pdb_cdrh3_list, all_sequences = parse_selected_cdrh3(folder, CDRH3_sequences)\n",
    "    for i in pdb_cdrh3_list:\n",
    "        print(i)\n",
    "    return pdb_cdrh3_list\n",
    "\n",
    "def argparse_function(analysis_type = None, file_or_folder_path = None, labels_file = None, cdrh3_seq_list = None):\n",
    "    \n",
    "    analysis_type = input('Select analysis type:\\n[1] - Single PDB file parsing\\n\\\n",
    "                                         [2] - Parsing all PDB files in a folder\\n\\\n",
    "                                         [3] - Parsing selection of CDRH3 sequences\\n\\\n",
    "                                             in a specific folder\\n\\n') if analysis_type is None else analysis_type\n",
    "    \n",
    "    file_or_folder_path = input('Input path of file or folder to be parsed:\\n') if file_or_folder_path is None else file_or_folder_path\n",
    "    \n",
    "    labels_file = input('Input path of file containing labeled sequences.(Optional\\\n",
    "                        leave blank if adding labels/QC not wanted):\\n') if labels_file is None else labels_file\n",
    "\n",
    "\n",
    "    if analysis_type == 'single' or analysis_type == 1:\n",
    "        result = [single_file_pdb_parsing(file_or_folder_path)]\n",
    "\n",
    "    if analysis_type == 'full' or analysis_type == 2:\n",
    "        result = full_folder_pdb_parsing(file_or_folder_path)\n",
    "\n",
    "    if analysis_type == 'selection' or analysis_type == 3:\n",
    "        cdrh3_seq_list = input('Input CDRH3 sequences as a list of 1-letter amino acid sequences:\\n') if cdrh3_seq_list is None else cdrh3_seq_list\n",
    "        result = selected_CDRH3_pdb_parsing(file_or_folder_path, cdrh3_seq_list)\n",
    "    \n",
    "    if labels_file is not None:\n",
    "        binding_and_qc(result, labeled_file) \n",
    "    \n",
    "    if len(result) == 1:\n",
    "        result = result[0]\n",
    "\n",
    "    return result\n",
    "\n"
   ]
  },
  {
   "cell_type": "code",
   "execution_count": 124,
   "id": "647a1f5b",
   "metadata": {},
   "outputs": [],
   "source": [
    "if __name__ == \"__main__\":\n",
    "    parser = argparse.ArgumentParser(description='Allows the extraction of CDRH3 structural information\\\n",
    "                                      from a Fv model pdb file, assuming the sequence of interest is at\\\n",
    "                                      positons 99-109 of the heavy chain')\n",
    "    \n",
    "    parser.add_argument('analysis_type', type = str, help = 'Analysis type:\\n\\\n",
    "                                                                [1 or \"single\"] - Single PDB file parsing\\n\\\n",
    "                                                                [2 or \"full\"] - Parsing all PDB files in a folder\\n\\\n",
    "                                                                [3 or \"selection\"] - Parsing selection of CDRH3 sequences\\\n",
    "                                                                 in a specific folder\\n\\n')\n",
    "    \n",
    "    parser.add_argument('file_or_folder', type = str, help = 'Path of file or folder to be parsed:')\n",
    "    \n",
    "    parser.add_argument('labeled_file', type = str, help = 'Path of file containing labeled sequences.(Optional\\\n",
    "                                                            leave blank if adding labels/QC not wanted)')\n",
    "    \n",
    "    parser.add_argument('cdrh3_seq_list', type = list, help = ' CDRH3 sequences as a list of 1-letter amino acid sequences')\n",
    "\n",
    "    args = parser.parse_args()\n",
    "    \n",
    "    argparse_function(args.analysis_type, args.file_or_folder, args.labeled_file, args.cdrh3_seq_list)   "
   ]
  },
  {
   "cell_type": "code",
   "execution_count": 116,
   "id": "38bc9d87",
   "metadata": {},
   "outputs": [
    {
     "name": "stdout",
     "output_type": "stream",
     "text": [
      "Sequence: YPLDGLFLFD -- 163 atoms at positions ('1500', '1662') -- Binding: Unknown \n",
      "1 CDRH3 sequences found. Binding data successfully added\n",
      "\n",
      "items in result:  Sequence: YPLDGLFLFD -- 163 atoms at positions ('1500', '1662') -- Binding: 0.0 \n"
     ]
    }
   ],
   "source": [
    "print('items in result: ', argparse_function(1, pdb_file))"
   ]
  },
  {
   "cell_type": "markdown",
   "id": "fcd72907",
   "metadata": {},
   "source": [
    "# Practical applications"
   ]
  },
  {
   "cell_type": "markdown",
   "id": "6405be28",
   "metadata": {},
   "source": [
    "##### Single File Parsing: \n",
    "Specificy which individual pdb file with pdb files to be analyzed as well as the labeled sequences csv file distinguishing binders from non-binders "
   ]
  },
  {
   "cell_type": "code",
   "execution_count": 18,
   "id": "942055bf",
   "metadata": {},
   "outputs": [],
   "source": [
    "pdb_file = r\"C:\\Users\\isaac\\Desktop\\MTLS Masters Program\\Thesis\\Brijj-Mason_data\\test\\mHER_H3_AgNeg_unique_fv_12_igfold.pdb\"\n",
    "labeled_file = r\"C:\\Users\\isaac\\Desktop\\MTLS Masters Program\\Thesis\\Brijj-Mason_data\\mason_sequences_label.csv\""
   ]
  },
  {
   "cell_type": "code",
   "execution_count": 25,
   "id": "756e4d4c",
   "metadata": {},
   "outputs": [
    {
     "name": "stdout",
     "output_type": "stream",
     "text": [
      "All CDRH3 sequences found. Binding data successfully added\n",
      "Sequence: YPLDGLFLFD -- 163 atoms at positions ('1500', '1662') -- Binding: 0.0 \n"
     ]
    }
   ],
   "source": [
    "cdrh3_object = full_pdb_parsing(pdb_file)\n",
    "\n",
    "cdrh3_object_list = [cdrh3_object] #binding_and_qc function takes a list as input\n",
    "binding_and_qc(cdrh3_object_list, labeled_file)\n",
    "\n",
    "print(cdrh3_object)"
   ]
  },
  {
   "cell_type": "markdown",
   "id": "874b7bb8",
   "metadata": {},
   "source": [
    "##### Parse All PDB files in Folder\n",
    "Specify folder containing pdb files, labeled sequences csv file"
   ]
  },
  {
   "cell_type": "code",
   "execution_count": 40,
   "id": "9fe7e2ec",
   "metadata": {},
   "outputs": [],
   "source": [
    "folder = r\"C:\\Users\\isaac\\Desktop\\MTLS Masters Program\\Thesis\\Brijj-Mason_data\\test\"\n",
    "labeled_file = r\"C:\\Users\\isaac\\Desktop\\MTLS Masters Program\\Thesis\\Brijj-Mason_data\\mason_sequences_label.csv\""
   ]
  },
  {
   "cell_type": "code",
   "execution_count": 42,
   "id": "5ee5a8fa",
   "metadata": {},
   "outputs": [
    {
     "name": "stdout",
     "output_type": "stream",
     "text": [
      "All 7 CDRH3 sequences found. Binding data successfully added\n",
      "\n",
      "Sequence: YPLDGLFLFD -- 163 atoms at positions ('1500', '1662') -- Binding: 0.0 \n",
      "Sequence: FNATAMYAFT -- 150 atoms at positions ('1500', '1649') -- Binding: 0.0 \n",
      "Sequence: YGVNSSYVLN -- 150 atoms at positions ('1500', '1649') -- Binding: 0.0 \n",
      "Sequence: WGLTSMYLYA -- 163 atoms at positions ('1500', '1662') -- Binding: 0.0 \n",
      "Sequence: YRIDHPFTYD -- 174 atoms at positions ('1500', '1673') -- Binding: 0.0 \n",
      "Sequence: WFVFSYFPIR -- 189 atoms at positions ('1500', '1688') -- Binding: 0.0 \n",
      "Sequence: YKMSAFFTYL -- 175 atoms at positions ('1500', '1674') -- Binding: 0.0 \n"
     ]
    }
   ],
   "source": [
    "pdb_cdrh3_list, all_sequences = parse_all_pdb_files(folder)\n",
    "binding_and_qc(pdb_cdrh3_list, labeled_file)\n",
    "\n",
    "for i in pdb_cdrh3_list:\n",
    "    print(i)"
   ]
  },
  {
   "cell_type": "markdown",
   "id": "ed5daea7",
   "metadata": {},
   "source": [
    "##### Parse PDB files containing selected list of CDRH3 sequences\n",
    "Specify folder containing pdb files, labeled sequences csv file and list of CDRH3 1-letter amino acid sequences."
   ]
  },
  {
   "cell_type": "code",
   "execution_count": 86,
   "id": "a603a3a2",
   "metadata": {},
   "outputs": [],
   "source": [
    "folder = r\"C:\\Users\\isaac\\Desktop\\MTLS Masters Program\\Thesis\\Brijj-Mason_data\\test\"\n",
    "labeled_file = r\"C:\\Users\\isaac\\Desktop\\MTLS Masters Program\\Thesis\\Brijj-Mason_data\\mason_sequences_label.csv\"\n",
    "\n",
    "CDRH3_sequences = ['YPLDGLFLFD', 'FNATAMYAFT', 'YGVNSSYVLN']"
   ]
  },
  {
   "cell_type": "code",
   "execution_count": 91,
   "id": "d1a11c8a",
   "metadata": {},
   "outputs": [
    {
     "name": "stdout",
     "output_type": "stream",
     "text": [
      "3 CDRH3 sequences found. Binding data successfully added\n",
      "\n",
      "Sequence: YPLDGLFLFD -- 163 atoms at positions ('1500', '1662') -- Binding: 0.0 \n",
      "Sequence: FNATAMYAFT -- 150 atoms at positions ('1500', '1649') -- Binding: 0.0 \n",
      "Sequence: YGVNSSYVLN -- 150 atoms at positions ('1500', '1649') -- Binding: 0.0 \n"
     ]
    }
   ],
   "source": [
    "pdb_cdrh3_list, all_sequences = parse_selected_cdrh3(folder, CDRH3_sequences)\n",
    "\n",
    "\n",
    "binding_and_qc(pdb_cdrh3_list, labeled_file)\n",
    "\n",
    "for i in pdb_cdrh3_list:\n",
    "    print(i)"
   ]
  }
 ],
 "metadata": {
  "kernelspec": {
   "display_name": "Python 3 (ipykernel)",
   "language": "python",
   "name": "python3"
  },
  "language_info": {
   "codemirror_mode": {
    "name": "ipython",
    "version": 3
   },
   "file_extension": ".py",
   "mimetype": "text/x-python",
   "name": "python",
   "nbconvert_exporter": "python",
   "pygments_lexer": "ipython3",
   "version": "3.11.5"
  }
 },
 "nbformat": 4,
 "nbformat_minor": 5
}
